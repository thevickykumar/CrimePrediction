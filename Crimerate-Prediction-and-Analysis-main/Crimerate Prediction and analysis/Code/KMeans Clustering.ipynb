{
 "cells": [
  {
   "cell_type": "code",
   "execution_count": 1,
   "id": "32edbf30-d66a-454e-becb-56c4360284b9",
   "metadata": {},
   "outputs": [],
   "source": [
    "# Packages / libraries\n",
    "import os #provides functions for interacting with the operating system\n",
    "import numpy as np \n",
    "import pandas as pd\n",
    "from matplotlib import pyplot as plt\n",
    "import seaborn as sns\n",
    "\n",
    "from sklearn.model_selection import train_test_split\n",
    "from sklearn.metrics import r2_score, explained_variance_score, confusion_matrix, accuracy_score, classification_report, log_loss\n",
    "from math import sqrt\n",
    "\n",
    "from sklearn.cluster import KMeans, k_means\n",
    "\n",
    "%matplotlib inline\n",
    " # To install sklearn type \"pip install numpy scipy scikit-learn\" to the anaconda terminal\n",
    "\n",
    "# To change scientific numbers to float\n",
    "np.set_printoptions(formatter={'float_kind':'{:f}'.format})\n",
    "\n",
    "# Increases the size of sns plots\n",
    "sns.set(rc={'figure.figsize':(8,6)})\n",
    "\n",
    "# import sys\n",
    "# !conda list Check the packages installed\n"
   ]
  },
  {
   "cell_type": "code",
   "execution_count": 2,
   "id": "28c41acf-acc0-4249-9402-ab8f7f30e163",
   "metadata": {},
   "outputs": [
    {
     "name": "stdout",
     "output_type": "stream",
     "text": [
      "(1048575, 22)\n"
     ]
    },
    {
     "data": {
      "text/html": [
       "<div>\n",
       "<style scoped>\n",
       "    .dataframe tbody tr th:only-of-type {\n",
       "        vertical-align: middle;\n",
       "    }\n",
       "\n",
       "    .dataframe tbody tr th {\n",
       "        vertical-align: top;\n",
       "    }\n",
       "\n",
       "    .dataframe thead th {\n",
       "        text-align: right;\n",
       "    }\n",
       "</style>\n",
       "<table border=\"1\" class=\"dataframe\">\n",
       "  <thead>\n",
       "    <tr style=\"text-align: right;\">\n",
       "      <th></th>\n",
       "      <th>ID</th>\n",
       "      <th>Case Number</th>\n",
       "      <th>Date</th>\n",
       "      <th>Block</th>\n",
       "      <th>IUCR</th>\n",
       "      <th>Primary Type</th>\n",
       "      <th>Description</th>\n",
       "      <th>Location Description</th>\n",
       "      <th>Arrest</th>\n",
       "      <th>Domestic</th>\n",
       "      <th>...</th>\n",
       "      <th>Ward</th>\n",
       "      <th>Community Area</th>\n",
       "      <th>FBI Code</th>\n",
       "      <th>X Coordinate</th>\n",
       "      <th>Y Coordinate</th>\n",
       "      <th>Year</th>\n",
       "      <th>Updated On</th>\n",
       "      <th>Latitude</th>\n",
       "      <th>Longitude</th>\n",
       "      <th>Location</th>\n",
       "    </tr>\n",
       "  </thead>\n",
       "  <tbody>\n",
       "    <tr>\n",
       "      <th>0</th>\n",
       "      <td>10224738</td>\n",
       "      <td>HY411648</td>\n",
       "      <td>09-05-2015 13:30</td>\n",
       "      <td>043XX S WOOD ST</td>\n",
       "      <td>486</td>\n",
       "      <td>BATTERY</td>\n",
       "      <td>DOMESTIC BATTERY SIMPLE</td>\n",
       "      <td>RESIDENCE</td>\n",
       "      <td>False</td>\n",
       "      <td>True</td>\n",
       "      <td>...</td>\n",
       "      <td>12.0</td>\n",
       "      <td>61.0</td>\n",
       "      <td>08B</td>\n",
       "      <td>1165074.0</td>\n",
       "      <td>1875917.0</td>\n",
       "      <td>2015</td>\n",
       "      <td>02-10-2018 15:50</td>\n",
       "      <td>41.815117</td>\n",
       "      <td>-87.670000</td>\n",
       "      <td>(41.815117282, -87.669999562)</td>\n",
       "    </tr>\n",
       "    <tr>\n",
       "      <th>1</th>\n",
       "      <td>10224739</td>\n",
       "      <td>HY411615</td>\n",
       "      <td>09-04-2015 11:30</td>\n",
       "      <td>008XX N CENTRAL AVE</td>\n",
       "      <td>870</td>\n",
       "      <td>THEFT</td>\n",
       "      <td>POCKET-PICKING</td>\n",
       "      <td>CTA BUS</td>\n",
       "      <td>False</td>\n",
       "      <td>False</td>\n",
       "      <td>...</td>\n",
       "      <td>29.0</td>\n",
       "      <td>25.0</td>\n",
       "      <td>6</td>\n",
       "      <td>1138875.0</td>\n",
       "      <td>1904869.0</td>\n",
       "      <td>2015</td>\n",
       "      <td>02-10-2018 15:50</td>\n",
       "      <td>41.895080</td>\n",
       "      <td>-87.765400</td>\n",
       "      <td>(41.895080471, -87.765400451)</td>\n",
       "    </tr>\n",
       "    <tr>\n",
       "      <th>2</th>\n",
       "      <td>11646166</td>\n",
       "      <td>JC213529</td>\n",
       "      <td>09-01-2018 00:01</td>\n",
       "      <td>082XX S INGLESIDE AVE</td>\n",
       "      <td>810</td>\n",
       "      <td>THEFT</td>\n",
       "      <td>OVER $500</td>\n",
       "      <td>RESIDENCE</td>\n",
       "      <td>False</td>\n",
       "      <td>True</td>\n",
       "      <td>...</td>\n",
       "      <td>8.0</td>\n",
       "      <td>44.0</td>\n",
       "      <td>6</td>\n",
       "      <td>NaN</td>\n",
       "      <td>NaN</td>\n",
       "      <td>2018</td>\n",
       "      <td>04-06-2019 16:04</td>\n",
       "      <td>NaN</td>\n",
       "      <td>NaN</td>\n",
       "      <td>NaN</td>\n",
       "    </tr>\n",
       "    <tr>\n",
       "      <th>3</th>\n",
       "      <td>10224740</td>\n",
       "      <td>HY411595</td>\n",
       "      <td>09-05-2015 12:45</td>\n",
       "      <td>035XX W BARRY AVE</td>\n",
       "      <td>2023</td>\n",
       "      <td>NARCOTICS</td>\n",
       "      <td>POSS: HEROIN(BRN/TAN)</td>\n",
       "      <td>SIDEWALK</td>\n",
       "      <td>True</td>\n",
       "      <td>False</td>\n",
       "      <td>...</td>\n",
       "      <td>35.0</td>\n",
       "      <td>21.0</td>\n",
       "      <td>18</td>\n",
       "      <td>1152037.0</td>\n",
       "      <td>1920384.0</td>\n",
       "      <td>2015</td>\n",
       "      <td>02-10-2018 15:50</td>\n",
       "      <td>41.937406</td>\n",
       "      <td>-87.716650</td>\n",
       "      <td>(41.937405765, -87.716649687)</td>\n",
       "    </tr>\n",
       "    <tr>\n",
       "      <th>4</th>\n",
       "      <td>10224741</td>\n",
       "      <td>HY411610</td>\n",
       "      <td>09-05-2015 13:00</td>\n",
       "      <td>0000X N LARAMIE AVE</td>\n",
       "      <td>560</td>\n",
       "      <td>ASSAULT</td>\n",
       "      <td>SIMPLE</td>\n",
       "      <td>APARTMENT</td>\n",
       "      <td>False</td>\n",
       "      <td>True</td>\n",
       "      <td>...</td>\n",
       "      <td>28.0</td>\n",
       "      <td>25.0</td>\n",
       "      <td>08A</td>\n",
       "      <td>1141706.0</td>\n",
       "      <td>1900086.0</td>\n",
       "      <td>2015</td>\n",
       "      <td>02-10-2018 15:50</td>\n",
       "      <td>41.881903</td>\n",
       "      <td>-87.755121</td>\n",
       "      <td>(41.881903443, -87.755121152)</td>\n",
       "    </tr>\n",
       "  </tbody>\n",
       "</table>\n",
       "<p>5 rows × 22 columns</p>\n",
       "</div>"
      ],
      "text/plain": [
       "         ID Case Number              Date                  Block  IUCR  \\\n",
       "0  10224738    HY411648  09-05-2015 13:30        043XX S WOOD ST   486   \n",
       "1  10224739    HY411615  09-04-2015 11:30    008XX N CENTRAL AVE   870   \n",
       "2  11646166    JC213529  09-01-2018 00:01  082XX S INGLESIDE AVE   810   \n",
       "3  10224740    HY411595  09-05-2015 12:45      035XX W BARRY AVE  2023   \n",
       "4  10224741    HY411610  09-05-2015 13:00    0000X N LARAMIE AVE   560   \n",
       "\n",
       "  Primary Type              Description Location Description  Arrest  \\\n",
       "0      BATTERY  DOMESTIC BATTERY SIMPLE            RESIDENCE   False   \n",
       "1        THEFT           POCKET-PICKING              CTA BUS   False   \n",
       "2        THEFT                OVER $500            RESIDENCE   False   \n",
       "3    NARCOTICS    POSS: HEROIN(BRN/TAN)             SIDEWALK    True   \n",
       "4      ASSAULT                   SIMPLE            APARTMENT   False   \n",
       "\n",
       "   Domestic  ...  Ward  Community Area  FBI Code  X Coordinate Y Coordinate  \\\n",
       "0      True  ...  12.0            61.0       08B     1165074.0    1875917.0   \n",
       "1     False  ...  29.0            25.0         6     1138875.0    1904869.0   \n",
       "2      True  ...   8.0            44.0         6           NaN          NaN   \n",
       "3     False  ...  35.0            21.0        18     1152037.0    1920384.0   \n",
       "4      True  ...  28.0            25.0       08A     1141706.0    1900086.0   \n",
       "\n",
       "   Year        Updated On   Latitude  Longitude                       Location  \n",
       "0  2015  02-10-2018 15:50  41.815117 -87.670000  (41.815117282, -87.669999562)  \n",
       "1  2015  02-10-2018 15:50  41.895080 -87.765400  (41.895080471, -87.765400451)  \n",
       "2  2018  04-06-2019 16:04        NaN        NaN                            NaN  \n",
       "3  2015  02-10-2018 15:50  41.937406 -87.716650  (41.937405765, -87.716649687)  \n",
       "4  2015  02-10-2018 15:50  41.881903 -87.755121  (41.881903443, -87.755121152)  \n",
       "\n",
       "[5 rows x 22 columns]"
      ]
     },
     "execution_count": 2,
     "metadata": {},
     "output_type": "execute_result"
    }
   ],
   "source": [
    "#################################################################################################################\n",
    "################################ Getting the file from local CSV      ###########################################\n",
    "#################################################################################################################\n",
    "\n",
    "# Loading the data\n",
    "raw_data = pd.read_csv('C:\\crimesdata.csv')\n",
    "\n",
    "# print the shape\n",
    "print(raw_data.shape)\n",
    "\n",
    "#runs the first 5 rows\n",
    "raw_data.head()"
   ]
  },
  {
   "cell_type": "code",
   "execution_count": 3,
   "id": "592da512-b933-4905-8719-38f04ed844b9",
   "metadata": {},
   "outputs": [
    {
     "data": {
      "text/plain": [
       "ID                          0\n",
       "Case Number                 0\n",
       "Date                        0\n",
       "Block                       0\n",
       "IUCR                        0\n",
       "Primary Type                0\n",
       "Description                 0\n",
       "Location Description     3122\n",
       "Arrest                      0\n",
       "Domestic                    0\n",
       "Beat                        0\n",
       "District                    1\n",
       "Ward                    26309\n",
       "Community Area          26197\n",
       "FBI Code                    0\n",
       "X Coordinate             5130\n",
       "Y Coordinate             5130\n",
       "Year                        0\n",
       "Updated On                  0\n",
       "Latitude                 5130\n",
       "Longitude                5130\n",
       "Location                 5130\n",
       "dtype: int64"
      ]
     },
     "execution_count": 3,
     "metadata": {},
     "output_type": "execute_result"
    }
   ],
   "source": [
    "# Checking for null values\n",
    "\n",
    "raw_data.isnull().sum()"
   ]
  },
  {
   "cell_type": "code",
   "execution_count": 4,
   "id": "bb119891-50fb-4453-ae3d-adca8fdbda18",
   "metadata": {
    "tags": []
   },
   "outputs": [
    {
     "name": "stdout",
     "output_type": "stream",
     "text": [
      "(1015124, 22)\n"
     ]
    },
    {
     "data": {
      "text/plain": [
       "ID                      0\n",
       "Case Number             0\n",
       "Date                    0\n",
       "Block                   0\n",
       "IUCR                    0\n",
       "Primary Type            0\n",
       "Description             0\n",
       "Location Description    0\n",
       "Arrest                  0\n",
       "Domestic                0\n",
       "Beat                    0\n",
       "District                0\n",
       "Ward                    0\n",
       "Community Area          0\n",
       "FBI Code                0\n",
       "X Coordinate            0\n",
       "Y Coordinate            0\n",
       "Year                    0\n",
       "Updated On              0\n",
       "Latitude                0\n",
       "Longitude               0\n",
       "Location                0\n",
       "dtype: int64"
      ]
     },
     "execution_count": 4,
     "metadata": {},
     "output_type": "execute_result"
    }
   ],
   "source": [
    "# Deleting the NULL values\n",
    "raw_data = raw_data.dropna(subset = ['Location Description','Ward','X Coordinate','Y Coordinate','Location','District','Community Area'])\n",
    "\n",
    "# Printing the shape\n",
    "print(raw_data.shape)\n",
    "\n",
    "# Visualize the NULL observations\n",
    "raw_data.isnull().sum()"
   ]
  },
  {
   "cell_type": "code",
   "execution_count": 5,
   "id": "b4aac0f5-b15e-4ea2-993c-5e388af902ff",
   "metadata": {},
   "outputs": [
    {
     "name": "stdout",
     "output_type": "stream",
     "text": [
      "The number of values for feature ID :1015124\n",
      "The number of values for feature Case Number :1015120\n",
      "The number of values for feature Date :459775\n",
      "The number of values for feature Block :32735\n",
      "The number of values for feature IUCR :355\n",
      "The number of values for feature Primary Type :34\n",
      "The number of values for feature Description :426\n",
      "The number of values for feature Location Description :154\n",
      "The number of values for feature Arrest :2 -- [False  True]\n",
      "The number of values for feature Domestic :2 -- [False  True]\n",
      "The number of values for feature Beat :282\n",
      "The number of values for feature District :23\n",
      "The number of values for feature Ward :50\n",
      "The number of values for feature Community Area :77\n",
      "The number of values for feature FBI Code :26\n",
      "The number of values for feature X Coordinate :64979\n",
      "The number of values for feature Y Coordinate :105353\n",
      "The number of values for feature Year :19\n",
      "The number of values for feature Updated On :1801\n",
      "The number of values for feature Latitude :298148\n",
      "The number of values for feature Longitude :297341\n",
      "The number of values for feature Location :299438\n"
     ]
    }
   ],
   "source": [
    "# Investigate all the elements whithin each Feature \n",
    "\n",
    "for column in raw_data:\n",
    "    unique_vals = np.unique(raw_data[column])\n",
    "    nr_values = len(unique_vals)\n",
    "    if nr_values < 10:\n",
    "        print('The number of values for feature {} :{} -- {}'.format(column, nr_values,unique_vals))\n",
    "    else:\n",
    "        print('The number of values for feature {} :{}'.format(column, nr_values))"
   ]
  },
  {
   "cell_type": "code",
   "execution_count": 6,
   "id": "1454366f-95be-4483-8e99-e6f825e3389b",
   "metadata": {},
   "outputs": [
    {
     "data": {
      "text/plain": [
       "Index(['ID', 'Case Number', 'Date', 'Block', 'IUCR', 'Primary Type',\n",
       "       'Description', 'Location Description', 'Arrest', 'Domestic', 'Beat',\n",
       "       'District', 'Ward', 'Community Area', 'FBI Code', 'X Coordinate',\n",
       "       'Y Coordinate', 'Year', 'Updated On', 'Latitude', 'Longitude',\n",
       "       'Location'],\n",
       "      dtype='object')"
      ]
     },
     "execution_count": 6,
     "metadata": {},
     "output_type": "execute_result"
    }
   ],
   "source": [
    "# Getting the columns we need\n",
    "\n",
    "raw_data.columns"
   ]
  },
  {
   "cell_type": "code",
   "execution_count": 7,
   "id": "ebff119a-304e-41e7-81c3-0dec743567ac",
   "metadata": {},
   "outputs": [
    {
     "data": {
      "image/png": "[encoded data removed]",
      "text/plain": [
       "<Figure size 576x432 with 1 Axes>"
      ]
     },
     "metadata": {},
     "output_type": "display_data"
    },
    {
     "data": {
      "image/png": "[encoded data removed]",
      "text/plain": [
       "<Figure size 576x432 with 1 Axes>"
      ]
     },
     "metadata": {},
     "output_type": "display_data"
    },
    {
     "data": {
      "image/png": "[encoded data removed]",
      "text/plain": [
       "<Figure size 576x432 with 1 Axes>"
      ]
     },
     "metadata": {},
     "output_type": "display_data"
    },
    {
     "data": {
      "image/png": "[encoded data removed]",
      "text/plain": [
       "<Figure size 576x432 with 1 Axes>"
      ]
     },
     "metadata": {},
     "output_type": "display_data"
    }
   ],
   "source": [
    "# Looping through all the features by our y variable - see if there is relationship\n",
    "\n",
    "features = ['Arrest', 'Domestic', 'District','Year']\n",
    "\n",
    "for f in features:\n",
    "    sns.countplot(x = f, data = raw_data, palette = 'Set3')# hue = 'Good Loan')\n",
    "    plt.xticks(rotation=45)\n",
    "    plt.show()"
   ]
  },
  {
   "cell_type": "code",
   "execution_count": 8,
   "id": "a6cc0795-c250-4598-ab76-3246b1391e22",
   "metadata": {
    "tags": []
   },
   "outputs": [
    {
     "name": "stdout",
     "output_type": "stream",
     "text": [
      "(1015124, 22)\n",
      "(1015124, 4)\n",
      "(1015124, 46)\n"
     ]
    },
    {
     "data": {
      "text/html": [
       "<div>\n",
       "<style scoped>\n",
       "    .dataframe tbody tr th:only-of-type {\n",
       "        vertical-align: middle;\n",
       "    }\n",
       "\n",
       "    .dataframe tbody tr th {\n",
       "        vertical-align: top;\n",
       "    }\n",
       "\n",
       "    .dataframe thead th {\n",
       "        text-align: right;\n",
       "    }\n",
       "</style>\n",
       "<table border=\"1\" class=\"dataframe\">\n",
       "  <thead>\n",
       "    <tr style=\"text-align: right;\">\n",
       "      <th></th>\n",
       "      <th>Arrest_False</th>\n",
       "      <th>Arrest_True</th>\n",
       "      <th>Domestic_False</th>\n",
       "      <th>Domestic_True</th>\n",
       "      <th>District_1.0</th>\n",
       "      <th>District_2.0</th>\n",
       "      <th>District_3.0</th>\n",
       "      <th>District_4.0</th>\n",
       "      <th>District_5.0</th>\n",
       "      <th>District_6.0</th>\n",
       "      <th>...</th>\n",
       "      <th>Year_2011</th>\n",
       "      <th>Year_2012</th>\n",
       "      <th>Year_2013</th>\n",
       "      <th>Year_2014</th>\n",
       "      <th>Year_2015</th>\n",
       "      <th>Year_2016</th>\n",
       "      <th>Year_2017</th>\n",
       "      <th>Year_2018</th>\n",
       "      <th>Year_2019</th>\n",
       "      <th>Year_2020</th>\n",
       "    </tr>\n",
       "  </thead>\n",
       "  <tbody>\n",
       "    <tr>\n",
       "      <th>0</th>\n",
       "      <td>1</td>\n",
       "      <td>0</td>\n",
       "      <td>0</td>\n",
       "      <td>1</td>\n",
       "      <td>0</td>\n",
       "      <td>0</td>\n",
       "      <td>0</td>\n",
       "      <td>0</td>\n",
       "      <td>0</td>\n",
       "      <td>0</td>\n",
       "      <td>...</td>\n",
       "      <td>0</td>\n",
       "      <td>0</td>\n",
       "      <td>0</td>\n",
       "      <td>0</td>\n",
       "      <td>1</td>\n",
       "      <td>0</td>\n",
       "      <td>0</td>\n",
       "      <td>0</td>\n",
       "      <td>0</td>\n",
       "      <td>0</td>\n",
       "    </tr>\n",
       "    <tr>\n",
       "      <th>1</th>\n",
       "      <td>1</td>\n",
       "      <td>0</td>\n",
       "      <td>1</td>\n",
       "      <td>0</td>\n",
       "      <td>0</td>\n",
       "      <td>0</td>\n",
       "      <td>0</td>\n",
       "      <td>0</td>\n",
       "      <td>0</td>\n",
       "      <td>0</td>\n",
       "      <td>...</td>\n",
       "      <td>0</td>\n",
       "      <td>0</td>\n",
       "      <td>0</td>\n",
       "      <td>0</td>\n",
       "      <td>1</td>\n",
       "      <td>0</td>\n",
       "      <td>0</td>\n",
       "      <td>0</td>\n",
       "      <td>0</td>\n",
       "      <td>0</td>\n",
       "    </tr>\n",
       "    <tr>\n",
       "      <th>3</th>\n",
       "      <td>0</td>\n",
       "      <td>1</td>\n",
       "      <td>1</td>\n",
       "      <td>0</td>\n",
       "      <td>0</td>\n",
       "      <td>0</td>\n",
       "      <td>0</td>\n",
       "      <td>0</td>\n",
       "      <td>0</td>\n",
       "      <td>0</td>\n",
       "      <td>...</td>\n",
       "      <td>0</td>\n",
       "      <td>0</td>\n",
       "      <td>0</td>\n",
       "      <td>0</td>\n",
       "      <td>1</td>\n",
       "      <td>0</td>\n",
       "      <td>0</td>\n",
       "      <td>0</td>\n",
       "      <td>0</td>\n",
       "      <td>0</td>\n",
       "    </tr>\n",
       "    <tr>\n",
       "      <th>4</th>\n",
       "      <td>1</td>\n",
       "      <td>0</td>\n",
       "      <td>0</td>\n",
       "      <td>1</td>\n",
       "      <td>0</td>\n",
       "      <td>0</td>\n",
       "      <td>0</td>\n",
       "      <td>0</td>\n",
       "      <td>0</td>\n",
       "      <td>0</td>\n",
       "      <td>...</td>\n",
       "      <td>0</td>\n",
       "      <td>0</td>\n",
       "      <td>0</td>\n",
       "      <td>0</td>\n",
       "      <td>1</td>\n",
       "      <td>0</td>\n",
       "      <td>0</td>\n",
       "      <td>0</td>\n",
       "      <td>0</td>\n",
       "      <td>0</td>\n",
       "    </tr>\n",
       "    <tr>\n",
       "      <th>5</th>\n",
       "      <td>1</td>\n",
       "      <td>0</td>\n",
       "      <td>1</td>\n",
       "      <td>0</td>\n",
       "      <td>0</td>\n",
       "      <td>0</td>\n",
       "      <td>0</td>\n",
       "      <td>0</td>\n",
       "      <td>0</td>\n",
       "      <td>1</td>\n",
       "      <td>...</td>\n",
       "      <td>0</td>\n",
       "      <td>0</td>\n",
       "      <td>0</td>\n",
       "      <td>0</td>\n",
       "      <td>1</td>\n",
       "      <td>0</td>\n",
       "      <td>0</td>\n",
       "      <td>0</td>\n",
       "      <td>0</td>\n",
       "      <td>0</td>\n",
       "    </tr>\n",
       "  </tbody>\n",
       "</table>\n",
       "<p>5 rows × 46 columns</p>\n",
       "</div>"
      ],
      "text/plain": [
       "   Arrest_False  Arrest_True  Domestic_False  Domestic_True  District_1.0  \\\n",
       "0             1            0               0              1             0   \n",
       "1             1            0               1              0             0   \n",
       "3             0            1               1              0             0   \n",
       "4             1            0               0              1             0   \n",
       "5             1            0               1              0             0   \n",
       "\n",
       "   District_2.0  District_3.0  District_4.0  District_5.0  District_6.0  ...  \\\n",
       "0             0             0             0             0             0  ...   \n",
       "1             0             0             0             0             0  ...   \n",
       "3             0             0             0             0             0  ...   \n",
       "4             0             0             0             0             0  ...   \n",
       "5             0             0             0             0             1  ...   \n",
       "\n",
       "   Year_2011  Year_2012  Year_2013  Year_2014  Year_2015  Year_2016  \\\n",
       "0          0          0          0          0          1          0   \n",
       "1          0          0          0          0          1          0   \n",
       "3          0          0          0          0          1          0   \n",
       "4          0          0          0          0          1          0   \n",
       "5          0          0          0          0          1          0   \n",
       "\n",
       "   Year_2017  Year_2018  Year_2019  Year_2020  \n",
       "0          0          0          0          0  \n",
       "1          0          0          0          0  \n",
       "3          0          0          0          0  \n",
       "4          0          0          0          0  \n",
       "5          0          0          0          0  \n",
       "\n",
       "[5 rows x 46 columns]"
      ]
     },
     "execution_count": 8,
     "metadata": {},
     "output_type": "execute_result"
    }
   ],
   "source": [
    "# Making categorical variables into numeric representation\n",
    "\n",
    "print(raw_data.shape)\n",
    "\n",
    "# keeping the columns we need - Drop the location columns for now, as we do not want them to impact our results (for now)\n",
    "raw_data1 = raw_data[features]\n",
    "print(raw_data1.shape)\n",
    "\n",
    "# Making categorical variables into numeric representation\n",
    "new_raw_data = pd.get_dummies(raw_data1, columns = features)\n",
    "\n",
    "# Notes:\n",
    "# We can also do this with Label Encoding and OneHotEncoder from the preprocessing library\n",
    "\n",
    "print(new_raw_data.shape)\n",
    "# print the shape\n",
    "\n",
    "new_raw_data.head()"
   ]
  },
  {
   "cell_type": "code",
   "execution_count": 9,
   "id": "d0f13d1b-c973-418e-b0fb-a39dc1d69eb5",
   "metadata": {
    "tags": []
   },
   "outputs": [
    {
     "data": {
      "text/html": [
       "<div>\n",
       "<style scoped>\n",
       "    .dataframe tbody tr th:only-of-type {\n",
       "        vertical-align: middle;\n",
       "    }\n",
       "\n",
       "    .dataframe tbody tr th {\n",
       "        vertical-align: top;\n",
       "    }\n",
       "\n",
       "    .dataframe thead th {\n",
       "        text-align: right;\n",
       "    }\n",
       "</style>\n",
       "<table border=\"1\" class=\"dataframe\">\n",
       "  <thead>\n",
       "    <tr style=\"text-align: right;\">\n",
       "      <th></th>\n",
       "      <th>Arrest</th>\n",
       "      <th>Domestic</th>\n",
       "      <th>District</th>\n",
       "      <th>Year</th>\n",
       "    </tr>\n",
       "  </thead>\n",
       "  <tbody>\n",
       "    <tr>\n",
       "      <th>0</th>\n",
       "      <td>False</td>\n",
       "      <td>True</td>\n",
       "      <td>9.0</td>\n",
       "      <td>2015</td>\n",
       "    </tr>\n",
       "    <tr>\n",
       "      <th>1</th>\n",
       "      <td>False</td>\n",
       "      <td>False</td>\n",
       "      <td>15.0</td>\n",
       "      <td>2015</td>\n",
       "    </tr>\n",
       "    <tr>\n",
       "      <th>3</th>\n",
       "      <td>True</td>\n",
       "      <td>False</td>\n",
       "      <td>14.0</td>\n",
       "      <td>2015</td>\n",
       "    </tr>\n",
       "    <tr>\n",
       "      <th>4</th>\n",
       "      <td>False</td>\n",
       "      <td>True</td>\n",
       "      <td>15.0</td>\n",
       "      <td>2015</td>\n",
       "    </tr>\n",
       "    <tr>\n",
       "      <th>5</th>\n",
       "      <td>False</td>\n",
       "      <td>False</td>\n",
       "      <td>6.0</td>\n",
       "      <td>2015</td>\n",
       "    </tr>\n",
       "  </tbody>\n",
       "</table>\n",
       "</div>"
      ],
      "text/plain": [
       "   Arrest  Domestic  District  Year\n",
       "0   False      True       9.0  2015\n",
       "1   False     False      15.0  2015\n",
       "3    True     False      14.0  2015\n",
       "4   False      True      15.0  2015\n",
       "5   False     False       6.0  2015"
      ]
     },
     "execution_count": 9,
     "metadata": {},
     "output_type": "execute_result"
    }
   ],
   "source": [
    "raw_data1.head()"
   ]
  },
  {
   "cell_type": "code",
   "execution_count": 10,
   "id": "a76ff67e-a61b-43a2-9dd2-da1feabd21f8",
   "metadata": {},
   "outputs": [
    {
     "name": "stdout",
     "output_type": "stream",
     "text": [
      "The clusters are:  [1 1 0 ... 1 1 1]\n",
      "The Inertia is:  1504595.6035719495\n"
     ]
    }
   ],
   "source": [
    "# Running Kmeans\n",
    "\n",
    "X_train = new_raw_data.values\n",
    "\n",
    "# We wills start with 5 clusters\n",
    "\n",
    "kmeans = KMeans(n_clusters=5, random_state=540)\n",
    "kmeans = kmeans.fit(X_train)\n",
    "\n",
    "# Prints the clusters it assigned to each observation\n",
    "print(\"The clusters are: \", kmeans.labels_)\n",
    "\n",
    "# Prints the Inertia\n",
    "print(\"The Inertia is: \", kmeans.inertia_)"
   ]
  },
  {
   "cell_type": "code",
   "execution_count": 11,
   "id": "32a6160d-98e9-4815-b338-7d725acc5b35",
   "metadata": {},
   "outputs": [
    {
     "data": {
      "text/plain": [
       "(1015124,)"
      ]
     },
     "execution_count": 11,
     "metadata": {},
     "output_type": "execute_result"
    }
   ],
   "source": [
    "kmeans.labels_.shape"
   ]
  },
  {
   "cell_type": "code",
   "execution_count": 12,
   "id": "896f1f6c-9a2e-469c-99e0-d17ea891decb",
   "metadata": {},
   "outputs": [
    {
     "name": "stdout",
     "output_type": "stream",
     "text": [
      "The innertia for : 2 Clusters is: 2032713.794845447\n",
      "The innertia for : 3 Clusters is: 1847072.3198523785\n",
      "The innertia for : 4 Clusters is: 1638423.818808939\n",
      "The innertia for : 5 Clusters is: 1480661.7896095058\n",
      "The innertia for : 6 Clusters is: 1382302.1284888205\n",
      "The innertia for : 7 Clusters is: 1294661.8333306867\n",
      "The innertia for : 8 Clusters is: 1247715.0290498813\n",
      "The innertia for : 9 Clusters is: 1203726.7099179886\n",
      "The innertia for : 10 Clusters is: 1189546.5799792544\n",
      "The innertia for : 11 Clusters is: 1138223.1542105856\n",
      "The innertia for : 12 Clusters is: 1136578.1147832759\n",
      "The innertia for : 13 Clusters is: 1098032.37836269\n",
      "The innertia for : 14 Clusters is: 1052132.7347956118\n",
      "The innertia for : 15 Clusters is: 1047856.8344337735\n",
      "The innertia for : 16 Clusters is: 1020475.7597598173\n",
      "The innertia for : 17 Clusters is: 1019535.0482452753\n",
      "The innertia for : 18 Clusters is: 995624.439416154\n",
      "The innertia for : 19 Clusters is: 978841.1006900023\n"
     ]
    }
   ],
   "source": [
    "# How to find the best number if Ks?\n",
    "\n",
    "# Running K means with multible Ks\n",
    "\n",
    "no_of_clusters = range(2,20) #[2,3,4,5,6,7,8,9]\n",
    "inertia = []\n",
    "\n",
    "\n",
    "for f in no_of_clusters:\n",
    "    kmeans = KMeans(n_clusters=f, random_state=2)\n",
    "    kmeans = kmeans.fit(X_train)\n",
    "    u = kmeans.inertia_\n",
    "    inertia.append(u)\n",
    "    print(\"The innertia for :\", f, \"Clusters is:\", u)"
   ]
  },
  {
   "cell_type": "code",
   "execution_count": 13,
   "id": "327a5080-c1d7-46cd-ba34-af43a5674ce1",
   "metadata": {},
   "outputs": [
    {
     "data": {
      "text/plain": [
       "range(2, 20)"
      ]
     },
     "execution_count": 13,
     "metadata": {},
     "output_type": "execute_result"
    }
   ],
   "source": [
    "no_of_clusters"
   ]
  },
  {
   "cell_type": "code",
   "execution_count": 14,
   "id": "176177f0-2348-45e2-97e8-42de97018e14",
   "metadata": {},
   "outputs": [
    {
     "data": {
      "text/plain": [
       "Text(0.5, 1.0, 'Inertia Plot per k')"
      ]
     },
     "execution_count": 14,
     "metadata": {},
     "output_type": "execute_result"
    },
    {
     "data": {
      "image/png": "[encoded data removed]",
      "text/plain": [
       "<Figure size 1152x432 with 1 Axes>"
      ]
     },
     "metadata": {},
     "output_type": "display_data"
    }
   ],
   "source": [
    "# Creating the scree plot for Intertia - elbow method\n",
    "fig, (ax1) = plt.subplots(1, figsize=(16,6))\n",
    "xx = np.arange(len(no_of_clusters))\n",
    "ax1.plot(xx, inertia)\n",
    "ax1.set_xticks(xx)\n",
    "ax1.set_xticklabels(no_of_clusters, rotation='vertical')\n",
    "plt.xlabel('Number of clusters')\n",
    "plt.ylabel('Inertia Score')\n",
    "plt.title(\"Inertia Plot per k\")"
   ]
  },
  {
   "cell_type": "code",
   "execution_count": 15,
   "id": "2c82e31c-f193-4190-a31a-fd37b2e77b8f",
   "metadata": {},
   "outputs": [
    {
     "data": {
      "text/html": [
       "<div>\n",
       "<style scoped>\n",
       "    .dataframe tbody tr th:only-of-type {\n",
       "        vertical-align: middle;\n",
       "    }\n",
       "\n",
       "    .dataframe tbody tr th {\n",
       "        vertical-align: top;\n",
       "    }\n",
       "\n",
       "    .dataframe thead th {\n",
       "        text-align: right;\n",
       "    }\n",
       "</style>\n",
       "<table border=\"1\" class=\"dataframe\">\n",
       "  <thead>\n",
       "    <tr style=\"text-align: right;\">\n",
       "      <th></th>\n",
       "      <th>Cluster 0</th>\n",
       "      <th>Cluster 1</th>\n",
       "      <th>Cluster 2</th>\n",
       "      <th>Cluster 3</th>\n",
       "      <th>Cluster 4</th>\n",
       "    </tr>\n",
       "  </thead>\n",
       "  <tbody>\n",
       "    <tr>\n",
       "      <th>0</th>\n",
       "      <td>321912</td>\n",
       "      <td>172292</td>\n",
       "      <td>173652</td>\n",
       "      <td>166624</td>\n",
       "      <td>180644</td>\n",
       "    </tr>\n",
       "  </tbody>\n",
       "</table>\n",
       "</div>"
      ],
      "text/plain": [
       "   Cluster 0  Cluster 1  Cluster 2  Cluster 3  Cluster 4\n",
       "0     321912     172292     173652     166624     180644"
      ]
     },
     "execution_count": 15,
     "metadata": {},
     "output_type": "execute_result"
    }
   ],
   "source": [
    "# Running K means on 5 clusters\n",
    "\n",
    "kmeans = KMeans(n_clusters=5, random_state=2)\n",
    "kmeans = kmeans.fit(X_train)\n",
    "\n",
    "\n",
    "kmeans.labels_\n",
    "\n",
    "# \"predictions\" for new data\n",
    "predictions = kmeans.predict(X_train)\n",
    "\n",
    "# calculating the Counts of the cluster\n",
    "unique, counts = np.unique(predictions, return_counts=True)\n",
    "counts = counts.reshape(1,5)\n",
    "\n",
    "# Creating a datagrame\n",
    "countscldf = pd.DataFrame(counts, columns = [\"Cluster 0\",\"Cluster 1\",\"Cluster 2\", \"Cluster 3\",\"Cluster 4\"])\n",
    "\n",
    "# display\n",
    "countscldf"
   ]
  },
  {
   "cell_type": "code",
   "execution_count": 16,
   "id": "a8338d1f-ef11-4c3c-a0f7-541a21dfa46e",
   "metadata": {},
   "outputs": [
    {
     "data": {
      "text/plain": [
       "array([3, 0, 4, ..., 0, 0, 0])"
      ]
     },
     "execution_count": 16,
     "metadata": {},
     "output_type": "execute_result"
    }
   ],
   "source": [
    "kmeans.labels_"
   ]
  },
  {
   "cell_type": "code",
   "execution_count": 17,
   "id": "d5dfe5c2-5e3f-4c19-ae22-54e1263c6fad",
   "metadata": {},
   "outputs": [
    {
     "data": {
      "text/plain": [
       "array([3, 0, 4, ..., 0, 0, 0])"
      ]
     },
     "execution_count": 17,
     "metadata": {},
     "output_type": "execute_result"
    }
   ],
   "source": [
    "predictions"
   ]
  },
  {
   "cell_type": "code",
   "execution_count": 18,
   "id": "ad22a320-e3c7-4afd-a5cd-37dbbfdeaecc",
   "metadata": {},
   "outputs": [
    {
     "data": {
      "text/plain": [
       "(1015124, 46)"
      ]
     },
     "execution_count": 18,
     "metadata": {},
     "output_type": "execute_result"
    }
   ],
   "source": [
    "new_raw_data.shape"
   ]
  },
  {
   "cell_type": "code",
   "execution_count": 19,
   "id": "7ed21b93-db2b-4a5e-9b50-14accd56cfbb",
   "metadata": {},
   "outputs": [
    {
     "name": "stdout",
     "output_type": "stream",
     "text": [
      "Explained variance ratio (first two components): [0.142297 0.117852]\n"
     ]
    },
    {
     "data": {
      "text/plain": [
       "<Figure size 576x432 with 0 Axes>"
      ]
     },
     "metadata": {},
     "output_type": "display_data"
    },
    {
     "data": {
      "image/png": "[encoded data removed]",
      "text/plain": [
       "<Figure size 864x576 with 1 Axes>"
      ]
     },
     "metadata": {},
     "output_type": "display_data"
    }
   ],
   "source": [
    "# Running PCA to Visualize the data\n",
    "\n",
    "from sklearn.decomposition import PCA\n",
    "from sklearn.discriminant_analysis import LinearDiscriminantAnalysis\n",
    "\n",
    "X = X_train\n",
    "y_num = predictions\n",
    "\n",
    "target_names = [\"Cluster 0\",\"Cluster 1\",\"Cluster 2\", \"Cluster 3\",\"Cluster 4\"]\n",
    "\n",
    "pca = PCA(n_components=2, random_state = 453)\n",
    "X_r = pca.fit(X).transform(X)\n",
    "\n",
    "\n",
    "# Percentage of variance explained for each components\n",
    "print('Explained variance ratio (first two components): %s' % str(pca.explained_variance_ratio_))\n",
    "\n",
    "# Plotting the data\n",
    "plt.figure()\n",
    "plt.figure(figsize=(12,8))\n",
    "colors = ['navy', 'turquoise', 'darkorange', 'red', 'black']\n",
    "lw = 2\n",
    "\n",
    "\n",
    "for color, i, target_name in zip(colors, [0, 1, 2, 3, 4], target_names):\n",
    "    plt.scatter(X_r[y_num == i, 0], X_r[y_num == i, 1], color=color, alpha=.8, lw=lw,label=target_name)\n",
    "    \n",
    "plt.legend(loc='best', shadow=False, scatterpoints=1)\n",
    "plt.legend(bbox_to_anchor=(1.05, 1), loc=2, borderaxespad=0.6)   \n",
    "plt.title('PCA of 2 Items')\n",
    "plt.show()"
   ]
  },
  {
   "cell_type": "code",
   "execution_count": 20,
   "id": "f9974ced-d5fa-41a8-a91e-3eb87219156c",
   "metadata": {},
   "outputs": [
    {
     "data": {
      "text/plain": [
       "(1015124, 2)"
      ]
     },
     "execution_count": 20,
     "metadata": {},
     "output_type": "execute_result"
    }
   ],
   "source": [
    "X.shape\n",
    "X_r.shape"
   ]
  },
  {
   "cell_type": "code",
   "execution_count": 21,
   "id": "fd4c122d-8e5c-48fd-83b5-1478c943621c",
   "metadata": {},
   "outputs": [
    {
     "name": "stdout",
     "output_type": "stream",
     "text": [
      "Total Variance in our dataset is:  2.3326944218528496\n",
      "The 95% variance we want to have is:  2.216059700760207\n",
      "\n",
      "Variance explain with 30 n_compononets:  2.3321182058214474\n",
      "Variance explain with 35 n_compononets:  2.332640835313131\n",
      "Variance explain with 40 n_compononets:  2.3326913248302565\n",
      "Variance explain with 41 n_compononets:  2.332693388790883\n",
      "Variance explain with 50 n_compononets:  2.3326944218528496\n",
      "Variance explain with 53 n_compononets:  2.3326944218528496\n",
      "Variance explain with 55 n_compononets:  2.3326944218528496\n",
      "Variance explain with 60 n_compononets:  2.3326944218528496\n"
     ]
    },
    {
     "data": {
      "image/png": "[encoded data removed]",
      "text/plain": [
       "<Figure size 1008x576 with 1 Axes>"
      ]
     },
     "metadata": {},
     "output_type": "display_data"
    }
   ],
   "source": [
    "# Trying with Dimentionality reduction and then Kmeans\n",
    "\n",
    "n_components = X.shape[1]\n",
    "\n",
    "# Running PCA with all components\n",
    "pca = PCA(n_components=n_components, random_state = 453)\n",
    "X_r = pca.fit(X).transform(X)\n",
    "\n",
    "\n",
    "# Calculating the 95% Variance\n",
    "total_variance = sum(pca.explained_variance_)\n",
    "print(\"Total Variance in our dataset is: \", total_variance)\n",
    "var_95 = total_variance * 0.95\n",
    "print(\"The 95% variance we want to have is: \", var_95)\n",
    "print(\"\")\n",
    "\n",
    "# Creating a df with the components and explained variance\n",
    "a = zip(range(0,n_components), pca.explained_variance_)\n",
    "a = pd.DataFrame(a, columns=[\"PCA Comp\", \"Explained Variance\"])\n",
    "\n",
    "# Trying to hit 95%\n",
    "print(\"Variance explain with 30 n_compononets: \", sum(a[\"Explained Variance\"][0:30]))\n",
    "print(\"Variance explain with 35 n_compononets: \", sum(a[\"Explained Variance\"][0:35]))\n",
    "print(\"Variance explain with 40 n_compononets: \", sum(a[\"Explained Variance\"][0:40]))\n",
    "print(\"Variance explain with 41 n_compononets: \", sum(a[\"Explained Variance\"][0:41]))\n",
    "print(\"Variance explain with 50 n_compononets: \", sum(a[\"Explained Variance\"][0:50]))\n",
    "print(\"Variance explain with 53 n_compononets: \", sum(a[\"Explained Variance\"][0:53]))\n",
    "print(\"Variance explain with 55 n_compononets: \", sum(a[\"Explained Variance\"][0:55]))\n",
    "print(\"Variance explain with 60 n_compononets: \", sum(a[\"Explained Variance\"][0:60]))\n",
    "\n",
    "# Plotting the Data\n",
    "plt.figure(1, figsize=(14, 8))\n",
    "plt.plot(pca.explained_variance_ratio_, linewidth=2, c=\"r\")\n",
    "plt.xlabel('n_components')\n",
    "plt.ylabel('explained_ratio_')\n",
    "\n",
    "# Plotting line with 95% e.v.\n",
    "plt.axvline(25,linestyle=':', label='n_components - 95% explained', c =\"blue\")\n",
    "plt.legend(prop=dict(size=12))\n",
    "\n",
    "# adding arrow\n",
    "plt.annotate('25 eigenvectors used to explain 95% variance', xy=(25, pca.explained_variance_ratio_[25]), \n",
    "             xytext=(25, pca.explained_variance_ratio_[10]),\n",
    "            arrowprops=dict(facecolor='blue', shrink=0.05))\n",
    "\n",
    "plt.show()"
   ]
  },
  {
   "cell_type": "code",
   "execution_count": 22,
   "id": "4b2e5518-3f07-443b-928a-0f297c7a2e3d",
   "metadata": {},
   "outputs": [
    {
     "name": "stdout",
     "output_type": "stream",
     "text": [
      "The innertia for : 2 Clusters is: 1974945.550047147\n",
      "The innertia for : 3 Clusters is: 1776531.9582797417\n",
      "The innertia for : 4 Clusters is: 1581490.7936893308\n",
      "The innertia for : 5 Clusters is: 1424133.103385706\n",
      "The innertia for : 6 Clusters is: 1304792.2017670004\n",
      "The innertia for : 7 Clusters is: 1257842.4675466018\n",
      "The innertia for : 8 Clusters is: 1189360.8421261003\n",
      "The innertia for : 9 Clusters is: 1146329.1149598877\n",
      "The innertia for : 10 Clusters is: 1106852.435647089\n",
      "The innertia for : 11 Clusters is: 1073445.7161271807\n",
      "The innertia for : 12 Clusters is: 1042610.882907446\n",
      "The innertia for : 13 Clusters is: 1019760.3049634494\n",
      "The innertia for : 14 Clusters is: 996856.6510846829\n",
      "The innertia for : 15 Clusters is: 995320.364813557\n",
      "The innertia for : 16 Clusters is: 964834.5378642612\n",
      "The innertia for : 17 Clusters is: 974386.0596815462\n",
      "The innertia for : 18 Clusters is: 940651.5869739768\n",
      "The innertia for : 19 Clusters is: 922790.8076194122\n"
     ]
    },
    {
     "data": {
      "text/plain": [
       "Text(0.5, 1.0, 'Inertia Plot per k')"
      ]
     },
     "execution_count": 22,
     "metadata": {},
     "output_type": "execute_result"
    },
    {
     "data": {
      "image/png": "[encoded data removed]",
      "text/plain": [
       "<Figure size 1152x432 with 1 Axes>"
      ]
     },
     "metadata": {},
     "output_type": "display_data"
    }
   ],
   "source": [
    "# Running PCA again\n",
    "\n",
    "pca = PCA(n_components=25, random_state = 453)\n",
    "X_r = pca.fit(X).transform(X)\n",
    "\n",
    "inertia = []\n",
    "\n",
    "#running Kmeans\n",
    "\n",
    "for f in no_of_clusters:\n",
    "    kmeans = KMeans(n_clusters=f, random_state=2)\n",
    "    kmeans = kmeans.fit(X_r)\n",
    "    u = kmeans.inertia_\n",
    "    inertia.append(u)\n",
    "    print(\"The innertia for :\", f, \"Clusters is:\", u)\n",
    "\n",
    "# Creating the scree plot for Intertia - elbow method\n",
    "fig, (ax1) = plt.subplots(1, figsize=(16,6))\n",
    "xx = np.arange(len(no_of_clusters))\n",
    "ax1.plot(xx, inertia)\n",
    "ax1.set_xticks(xx)\n",
    "ax1.set_xticklabels(no_of_clusters, rotation='vertical')\n",
    "plt.xlabel('n_components Value')\n",
    "plt.ylabel('Inertia Score')\n",
    "plt.title(\"Inertia Plot per k\")"
   ]
  },
  {
   "cell_type": "code",
   "execution_count": null,
   "id": "5a41e50d-2914-43e8-afc5-e08eb5da538a",
   "metadata": {},
   "outputs": [],
   "source": []
  }
 ],
 "metadata": {
  "kernelspec": {
   "display_name": "Python 3 (ipykernel)",
   "language": "python",
   "name": "python3"
  },
  "language_info": {
   "codemirror_mode": {
    "name": "ipython",
    "version": 3
   },
   "file_extension": ".py",
   "mimetype": "text/x-python",
   "name": "python",
   "nbconvert_exporter": "python",
   "pygments_lexer": "ipython3",
   "version": "3.9.7"
  }
 },
 "nbformat": 4,
 "nbformat_minor": 5
}
